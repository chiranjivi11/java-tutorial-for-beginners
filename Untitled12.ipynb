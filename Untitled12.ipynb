{
  "nbformat": 4,
  "nbformat_minor": 0,
  "metadata": {
    "colab": {
      "provenance": [],
      "authorship_tag": "ABX9TyN/HfinUogcdq9MAEglxFBC",
      "include_colab_link": true
    },
    "kernelspec": {
      "name": "python3",
      "display_name": "Python 3"
    },
    "language_info": {
      "name": "python"
    }
  },
  "cells": [
    {
      "cell_type": "markdown",
      "metadata": {
        "id": "view-in-github",
        "colab_type": "text"
      },
      "source": [
        "<a href=\"https://colab.research.google.com/github/chiranjivi11/java-tutorial-for-beginners/blob/master/Untitled12.ipynb\" target=\"_parent\"><img src=\"https://colab.research.google.com/assets/colab-badge.svg\" alt=\"Open In Colab\"/></a>"
      ]
    },
    {
      "cell_type": "code",
      "execution_count": 1,
      "metadata": {
        "colab": {
          "base_uri": "https://localhost:8080/"
        },
        "id": "-G8XIqhNAeyo",
        "outputId": "14dbaa1e-e98a-491b-fc0d-deea81614a59"
      },
      "outputs": [
        {
          "output_type": "stream",
          "name": "stdout",
          "text": [
            "Perimeter =  30\n"
          ]
        }
      ],
      "source": [
        "#Python Program to Find the perimeter of a cylinder\n",
        "\n",
        "# Function to calculate\n",
        "# the perimeter of a cylinder\n",
        "def perimeter( diameter, height ) :\n",
        "    return 2 * ( diameter + height )\n",
        "\n",
        "# Driver function\n",
        "diameter = 5 ;\n",
        "height = 10 ;\n",
        "print (\"Perimeter = \",\n",
        "            perimeter(diameter, height))\n"
      ]
    },
    {
      "cell_type": "code",
      "source": [
        "# area of tetrahedron\n",
        "import math\n",
        "\n",
        "def area_of_tetrahedron(side):\n",
        "\n",
        "    return (math.sqrt(3) * (side * side))\n",
        "\n",
        "# Driver Code\n",
        "side = 3;\n",
        "print(\"Area of Tetrahedron =\",\n",
        "    area_of_tetrahedron(side));"
      ],
      "metadata": {
        "colab": {
          "base_uri": "https://localhost:8080/"
        },
        "id": "zVHIvPIUB6NU",
        "outputId": "5d449f3a-c122-4423-ab8e-066c86e5aec4"
      },
      "execution_count": 3,
      "outputs": [
        {
          "output_type": "stream",
          "name": "stdout",
          "text": [
            "Area of Tetrahedron = 15.588457268119894\n"
          ]
        }
      ]
    },
    {
      "cell_type": "code",
      "source": [
        "#Program for Common Divisors of Two Numbers\n",
        "a = 12\n",
        "b = 24\n",
        "n = 0\n",
        "\n",
        "for i in range(1, min(a, b)+1):\n",
        "    if a%i==b%i==0:\n",
        "        n+=1\n",
        "\n",
        "print(n)"
      ],
      "metadata": {
        "colab": {
          "base_uri": "https://localhost:8080/"
        },
        "id": "yduf8y6fB9ZY",
        "outputId": "36c4b17b-fdd8-43a3-d013-713357d248ae"
      },
      "execution_count": 4,
      "outputs": [
        {
          "output_type": "stream",
          "name": "stdout",
          "text": [
            "6\n"
          ]
        }
      ]
    }
  ]
}